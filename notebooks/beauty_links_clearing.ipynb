{
 "cells": [
  {
   "cell_type": "code",
   "execution_count": null,
   "metadata": {},
   "outputs": [],
   "source": [
    "# Очистка удлинненых ссылок от дубликатов, пустых значений, ссылок на твиттер и удаление .shtml"
   ]
  },
  {
   "cell_type": "code",
   "execution_count": 15,
   "metadata": {},
   "outputs": [],
   "source": [
    "import pandas as pd"
   ]
  },
  {
   "cell_type": "code",
   "execution_count": 16,
   "metadata": {},
   "outputs": [],
   "source": [
    "PERSIAN_LINKS = '..\\\\data\\\\beauty_links_persian.csv'\n",
    "TAJIK_LINKS = '..\\\\data\\\\beauty_links_tajik.csv'"
   ]
  },
  {
   "cell_type": "code",
   "execution_count": 17,
   "metadata": {},
   "outputs": [],
   "source": [
    "def clear(path, path_to_save):\n",
    "    data = pd.read_csv(path, on_bad_lines='skip')\n",
    "    data = data.dropna().drop_duplicates()\n",
    "    data = data[data['BeautyLink'].str.contains('www.bbc.com')]\n",
    "    data['BeautyLink'] = data['BeautyLink'].str.replace('.shtml', '')\n",
    "    data.to_csv(path_to_save)\n",
    "    return data"
   ]
  },
  {
   "cell_type": "code",
   "execution_count": 18,
   "metadata": {},
   "outputs": [
    {
     "name": "stderr",
     "output_type": "stream",
     "text": [
      "C:\\Users\\mirvo\\AppData\\Local\\Temp\\ipykernel_15260\\348524326.py:5: FutureWarning: The default value of regex will change from True to False in a future version.\n",
      "  data['BeautyLink'] = data['BeautyLink'].str.replace('.shtml', '')\n"
     ]
    },
    {
     "data": {
      "text/html": [
       "<div>\n",
       "<style scoped>\n",
       "    .dataframe tbody tr th:only-of-type {\n",
       "        vertical-align: middle;\n",
       "    }\n",
       "\n",
       "    .dataframe tbody tr th {\n",
       "        vertical-align: top;\n",
       "    }\n",
       "\n",
       "    .dataframe thead th {\n",
       "        text-align: right;\n",
       "    }\n",
       "</style>\n",
       "<table border=\"1\" class=\"dataframe\">\n",
       "  <thead>\n",
       "    <tr style=\"text-align: right;\">\n",
       "      <th></th>\n",
       "      <th>id</th>\n",
       "      <th>BeautyLink</th>\n",
       "    </tr>\n",
       "  </thead>\n",
       "  <tbody>\n",
       "    <tr>\n",
       "      <th>0</th>\n",
       "      <td>1</td>\n",
       "      <td>https://www.bbc.com/persian/iran/2015/03/15040...</td>\n",
       "    </tr>\n",
       "    <tr>\n",
       "      <th>1</th>\n",
       "      <td>2</td>\n",
       "      <td>https://www.bbc.com/persian/iran/2015/03/15040...</td>\n",
       "    </tr>\n",
       "    <tr>\n",
       "      <th>3</th>\n",
       "      <td>4</td>\n",
       "      <td>https://www.bbc.com/persian/world/2015/03/1503...</td>\n",
       "    </tr>\n",
       "    <tr>\n",
       "      <th>8</th>\n",
       "      <td>9</td>\n",
       "      <td>https://www.bbc.com/persian/iran/2015/03/15033...</td>\n",
       "    </tr>\n",
       "    <tr>\n",
       "      <th>10</th>\n",
       "      <td>11</td>\n",
       "      <td>https://www.bbc.com/persian/world/2015/03/1503...</td>\n",
       "    </tr>\n",
       "    <tr>\n",
       "      <th>...</th>\n",
       "      <td>...</td>\n",
       "      <td>...</td>\n",
       "    </tr>\n",
       "    <tr>\n",
       "      <th>40563</th>\n",
       "      <td>40579</td>\n",
       "      <td>https://www.bbc.com/persian/iran/2009/09/09090...</td>\n",
       "    </tr>\n",
       "    <tr>\n",
       "      <th>40564</th>\n",
       "      <td>40580</td>\n",
       "      <td>https://www.bbc.com/persian/iran/2009/09/09090...</td>\n",
       "    </tr>\n",
       "    <tr>\n",
       "      <th>40565</th>\n",
       "      <td>40581</td>\n",
       "      <td>https://www.bbc.com/persian/science/2009/09/09...</td>\n",
       "    </tr>\n",
       "    <tr>\n",
       "      <th>40566</th>\n",
       "      <td>40582</td>\n",
       "      <td>https://www.bbc.com/persian/sport/2009/09/0908...</td>\n",
       "    </tr>\n",
       "    <tr>\n",
       "      <th>40567</th>\n",
       "      <td>40583</td>\n",
       "      <td>https://www.bbc.com/persian/iran/2009/08/09083...</td>\n",
       "    </tr>\n",
       "  </tbody>\n",
       "</table>\n",
       "<p>37349 rows × 2 columns</p>\n",
       "</div>"
      ],
      "text/plain": [
       "          id                                         BeautyLink\n",
       "0          1  https://www.bbc.com/persian/iran/2015/03/15040...\n",
       "1          2  https://www.bbc.com/persian/iran/2015/03/15040...\n",
       "3          4  https://www.bbc.com/persian/world/2015/03/1503...\n",
       "8          9  https://www.bbc.com/persian/iran/2015/03/15033...\n",
       "10        11  https://www.bbc.com/persian/world/2015/03/1503...\n",
       "...      ...                                                ...\n",
       "40563  40579  https://www.bbc.com/persian/iran/2009/09/09090...\n",
       "40564  40580  https://www.bbc.com/persian/iran/2009/09/09090...\n",
       "40565  40581  https://www.bbc.com/persian/science/2009/09/09...\n",
       "40566  40582  https://www.bbc.com/persian/sport/2009/09/0908...\n",
       "40567  40583  https://www.bbc.com/persian/iran/2009/08/09083...\n",
       "\n",
       "[37349 rows x 2 columns]"
      ]
     },
     "execution_count": 18,
     "metadata": {},
     "output_type": "execute_result"
    }
   ],
   "source": [
    "clear(PERSIAN_LINKS, '..\\\\data\\\\beauty_links_persian_cleared.csv')"
   ]
  },
  {
   "cell_type": "code",
   "execution_count": 19,
   "metadata": {},
   "outputs": [
    {
     "name": "stderr",
     "output_type": "stream",
     "text": [
      "C:\\Users\\mirvo\\AppData\\Local\\Temp\\ipykernel_15260\\348524326.py:5: FutureWarning: The default value of regex will change from True to False in a future version.\n",
      "  data['BeautyLink'] = data['BeautyLink'].str.replace('.shtml', '')\n"
     ]
    },
    {
     "data": {
      "text/html": [
       "<div>\n",
       "<style scoped>\n",
       "    .dataframe tbody tr th:only-of-type {\n",
       "        vertical-align: middle;\n",
       "    }\n",
       "\n",
       "    .dataframe tbody tr th {\n",
       "        vertical-align: top;\n",
       "    }\n",
       "\n",
       "    .dataframe thead th {\n",
       "        text-align: right;\n",
       "    }\n",
       "</style>\n",
       "<table border=\"1\" class=\"dataframe\">\n",
       "  <thead>\n",
       "    <tr style=\"text-align: right;\">\n",
       "      <th></th>\n",
       "      <th>id</th>\n",
       "      <th>BeautyLink</th>\n",
       "    </tr>\n",
       "  </thead>\n",
       "  <tbody>\n",
       "    <tr>\n",
       "      <th>0</th>\n",
       "      <td>0</td>\n",
       "      <td>https://www.bbc.com/tajik/news/2015/03/150331_...</td>\n",
       "    </tr>\n",
       "    <tr>\n",
       "      <th>1</th>\n",
       "      <td>1</td>\n",
       "      <td>https://www.bbc.com/tajik/news/2015/03/150331_...</td>\n",
       "    </tr>\n",
       "    <tr>\n",
       "      <th>2</th>\n",
       "      <td>2</td>\n",
       "      <td>https://www.bbc.com/tajik/news/2015/03/150330_...</td>\n",
       "    </tr>\n",
       "    <tr>\n",
       "      <th>3</th>\n",
       "      <td>3</td>\n",
       "      <td>https://www.bbc.com/tajik/news/2015/03/150329_...</td>\n",
       "    </tr>\n",
       "    <tr>\n",
       "      <th>4</th>\n",
       "      <td>4</td>\n",
       "      <td>https://www.bbc.com/tajik/news/2015/03/150329_...</td>\n",
       "    </tr>\n",
       "    <tr>\n",
       "      <th>...</th>\n",
       "      <td>...</td>\n",
       "      <td>...</td>\n",
       "    </tr>\n",
       "    <tr>\n",
       "      <th>12330</th>\n",
       "      <td>12330</td>\n",
       "      <td>https://www.bbc.com/tajik/news/2009/09/090922_...</td>\n",
       "    </tr>\n",
       "    <tr>\n",
       "      <th>12331</th>\n",
       "      <td>12331</td>\n",
       "      <td>https://www.bbc.com/tajik/news/2009/09/090922_...</td>\n",
       "    </tr>\n",
       "    <tr>\n",
       "      <th>12332</th>\n",
       "      <td>12332</td>\n",
       "      <td>https://www.bbc.com/tajik/news/2009/09/090922_...</td>\n",
       "    </tr>\n",
       "    <tr>\n",
       "      <th>12333</th>\n",
       "      <td>12333</td>\n",
       "      <td>https://www.bbc.com/tajik/news/2009/09/090922_...</td>\n",
       "    </tr>\n",
       "    <tr>\n",
       "      <th>12334</th>\n",
       "      <td>12334</td>\n",
       "      <td>https://www.bbc.com/tajik/news/2009/09/090921_...</td>\n",
       "    </tr>\n",
       "  </tbody>\n",
       "</table>\n",
       "<p>12318 rows × 2 columns</p>\n",
       "</div>"
      ],
      "text/plain": [
       "          id                                         BeautyLink\n",
       "0          0  https://www.bbc.com/tajik/news/2015/03/150331_...\n",
       "1          1  https://www.bbc.com/tajik/news/2015/03/150331_...\n",
       "2          2  https://www.bbc.com/tajik/news/2015/03/150330_...\n",
       "3          3  https://www.bbc.com/tajik/news/2015/03/150329_...\n",
       "4          4  https://www.bbc.com/tajik/news/2015/03/150329_...\n",
       "...      ...                                                ...\n",
       "12330  12330  https://www.bbc.com/tajik/news/2009/09/090922_...\n",
       "12331  12331  https://www.bbc.com/tajik/news/2009/09/090922_...\n",
       "12332  12332  https://www.bbc.com/tajik/news/2009/09/090922_...\n",
       "12333  12333  https://www.bbc.com/tajik/news/2009/09/090922_...\n",
       "12334  12334  https://www.bbc.com/tajik/news/2009/09/090921_...\n",
       "\n",
       "[12318 rows x 2 columns]"
      ]
     },
     "execution_count": 19,
     "metadata": {},
     "output_type": "execute_result"
    }
   ],
   "source": [
    "clear(TAJIK_LINKS, '..\\\\data\\\\beauty_links_tajik_cleared.csv')"
   ]
  }
 ],
 "metadata": {
  "kernelspec": {
   "display_name": "Python 3.10.5 64-bit",
   "language": "python",
   "name": "python3"
  },
  "language_info": {
   "codemirror_mode": {
    "name": "ipython",
    "version": 3
   },
   "file_extension": ".py",
   "mimetype": "text/x-python",
   "name": "python",
   "nbconvert_exporter": "python",
   "pygments_lexer": "ipython3",
   "version": "3.10.5"
  },
  "orig_nbformat": 4,
  "vscode": {
   "interpreter": {
    "hash": "1163033b3a67b7271a936ce7c571531b75eab96758d1011b0595f11a015c9e56"
   }
  }
 },
 "nbformat": 4,
 "nbformat_minor": 2
}
