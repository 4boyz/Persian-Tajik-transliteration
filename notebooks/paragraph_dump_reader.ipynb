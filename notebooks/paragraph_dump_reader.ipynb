{
 "cells": [
  {
   "cell_type": "code",
   "execution_count": 10,
   "metadata": {
    "collapsed": true
   },
   "outputs": [],
   "source": [
    "import pandas as pd\n",
    "import numpy as np\n",
    "import source.dump_reader as dr\n",
    "import codecs\n",
    "from bs4 import BeautifulSoup\n"
   ]
  },
  {
   "cell_type": "markdown",
   "source": [
    "Таджикские статьи сначала считать и сохранить в tajik_paragraph.csv"
   ],
   "metadata": {
    "collapsed": false
   }
  },
  {
   "cell_type": "code",
   "execution_count": 11,
   "outputs": [],
   "source": [
    "PATH_TO_DUMP_TAJIK = '..\\\\data\\\\tajik_dump'\n",
    "FILE_NAME = f'1-200.gz'\n",
    "PATH = f'{PATH_TO_DUMP_TAJIK}\\\\{FILE_NAME}'\n",
    "PATH_TO_DUMP_TAJIK_PARAGRAPH = f'{PATH_TO_DUMP_TAJIK}\\\\data\\\\tajik_paragraph.csv'"
   ],
   "metadata": {
    "collapsed": false
   }
  },
  {
   "cell_type": "code",
   "execution_count": 12,
   "outputs": [],
   "source": [
    "DumpReader = dr.DumpReader(PATH)"
   ],
   "metadata": {
    "collapsed": false
   }
  },
  {
   "cell_type": "code",
   "execution_count": 13,
   "outputs": [],
   "source": [
    "tajik_dumps = DumpReader.read(PATH_TO_DUMP_TAJIK)"
   ],
   "metadata": {
    "collapsed": false
   }
  },
  {
   "cell_type": "code",
   "execution_count": 14,
   "outputs": [],
   "source": [
    "# очистка от 404\n",
    "for dump in tajik_dumps:\n",
    "    if dump['StatusCode'] != '200':\n",
    "        tajik_dumps.remove(dump)"
   ],
   "metadata": {
    "collapsed": false
   }
  },
  {
   "cell_type": "code",
   "execution_count": 15,
   "outputs": [],
   "source": [
    "# отчистка от ссылок с персидским языком в таджиках\n",
    "for dump in tajik_dumps:\n",
    "    if BeautifulSoup(dump['Content']).find('html', {'lang':'fa'}):\n",
    "        tajik_dumps.remove(dump)"
   ],
   "metadata": {
    "collapsed": false
   }
  },
  {
   "cell_type": "code",
   "execution_count": 16,
   "outputs": [],
   "source": [
    "list_of_dict_tajik = list()\n",
    "tajik_paragraph_list_errors = list()"
   ],
   "metadata": {
    "collapsed": false
   }
  },
  {
   "cell_type": "code",
   "execution_count": 17,
   "outputs": [],
   "source": [
    "for dump in tajik_dumps:\n",
    "    try:\n",
    "        # id статьи\n",
    "        id = dump['id']\n",
    "        # Текст первого абзаца\n",
    "        paragraph = BeautifulSoup(dump['Content']).find('div', {'class':'story-body__inner'}).find_all('p')[1].text\n",
    "        # Ссылка на статью\n",
    "        link = BeautifulSoup(dump['Content']).find('link', {'rel':'canonical'})['href']\n",
    "        list_of_dict_tajik.append({'id':id,'paragraph':paragraph,'link':link})\n",
    "    except:\n",
    "        tajik_paragraph_list_errors.append(dump) # лист, где отсутствует текст статьи"
   ],
   "metadata": {
    "collapsed": false
   }
  },
  {
   "cell_type": "code",
   "execution_count": 18,
   "outputs": [],
   "source": [
    "# Сохранить 1 абзац статьи в csv\n",
    "pd.DataFrame(list_of_dict_tajik).sort_values(by='id').set_index('id').to_csv(PATH_TO_DUMP_TAJIK_PARAGRAPH)"
   ],
   "metadata": {
    "collapsed": false
   }
  },
  {
   "cell_type": "markdown",
   "source": [
    "Персидские статьи сначала считать и сохранить в tajik_paragraph.csv"
   ],
   "metadata": {
    "collapsed": false
   }
  },
  {
   "cell_type": "code",
   "execution_count": 19,
   "outputs": [],
   "source": [
    "PATH_TO_DUMP_PERSIAN = '..\\\\data\\\\persian_dump'\n",
    "PATH_TO_DUMP_PERSIAN_PARAGRAPH = '..\\\\data\\\\persian_paragraph.csv'"
   ],
   "metadata": {
    "collapsed": false
   }
  },
  {
   "cell_type": "code",
   "execution_count": 20,
   "outputs": [],
   "source": [
    "DumpReader = dr.DumpReader(PATH_TO_DUMP_PERSIAN)"
   ],
   "metadata": {
    "collapsed": false
   }
  },
  {
   "cell_type": "code",
   "execution_count": 21,
   "outputs": [],
   "source": [
    "persian_dumps = DumpReader.read(PATH_TO_DUMP_PERSIAN)"
   ],
   "metadata": {
    "collapsed": false
   }
  },
  {
   "cell_type": "code",
   "execution_count": 22,
   "outputs": [],
   "source": [
    "# очистка от 404\n",
    "for dump in persian_dumps:\n",
    "    if dump['StatusCode'] != '200':\n",
    "        persian_dumps.remove(dump)"
   ],
   "metadata": {
    "collapsed": false
   }
  },
  {
   "cell_type": "code",
   "execution_count": 23,
   "outputs": [],
   "source": [
    "list_of_dict_persian = list()\n",
    "persian_paragraph_list_errors = list()"
   ],
   "metadata": {
    "collapsed": false
   }
  },
  {
   "cell_type": "code",
   "execution_count": 24,
   "outputs": [],
   "source": [
    "for dump in persian_dumps:\n",
    "    try:\n",
    "        # id статьи\n",
    "        id = dump['id']\n",
    "        # Текст первого абзаца\n",
    "        paragraph = BeautifulSoup(dump['Content']).find('p', {'class':'bbc-yabuuk e17g058b0'}).text\n",
    "        # Ссылка на статью\n",
    "        link = BeautifulSoup(dump['Content']).find('meta', {'property':'og:url'})['content']\n",
    "        list_of_dict_persian.append({'id':id,'paragraph':paragraph,'link':link})\n",
    "    except:\n",
    "        continue\n",
    "        # persian_paragraph_list_errors.append(dump) # лист, где отсутствует текст статьи"
   ],
   "metadata": {
    "collapsed": false
   }
  },
  {
   "cell_type": "code",
   "execution_count": 25,
   "outputs": [],
   "source": [
    "# Сохранить 1 абзац статьи в csv\n",
    "pd.DataFrame(list_of_dict_persian).sort_values(by='id').set_index('id').to_csv(PATH_TO_DUMP_PERSIAN_PARAGRAPH)"
   ],
   "metadata": {
    "collapsed": false
   }
  },
  {
   "cell_type": "markdown",
   "source": [],
   "metadata": {
    "collapsed": false
   }
  },
  {
   "cell_type": "code",
   "execution_count": 27,
   "outputs": [
    {
     "data": {
      "text/plain": "          id                                          paragraph  \\\n0        100  یونس عساکره دست فروش خرمشهری، چند روز پس از خو...   \n1       1000  آتشفشان ویلاریکا در جنوب شیلی بعد از هفته‌ها ا...   \n2      10000  مقام‌های وزارت مالیه/دارایی افغانستان ابراز نگ...   \n3      10001  مرداد ماه امسال، پنجاه و پنج سال از مرگ قمرالم...   \n4      10002  جیک چپمن، هنرمند بریتانیایی می گوید که بردن کو...   \n...      ...                                                ...   \n30004   9994  یونیسف، صندوق کودکان ملل متحد روز سه‌شنبه ۵ او...   \n30005   9995  امپراتوری اتریش-مجارستان، صربستان را در ترور آ...   \n30006   9996  بارونس سعیده وارثی، یکی از معاونان وزارت خارجه...   \n30007   9998  نیروهای «دولت اسلامی عراق و شام» طی چند روز گذ...   \n30008   9999  برخی از رسانه ها از اعتراض مکتوب امارات متحده ...   \n\n                                                    link  \n0      https://www.bbc.com/persian/blogs/2015/03/1503...  \n1      https://www.bbc.com/persian/world/2015/03/1503...  \n2      https://www.bbc.com/persian/interactivity/2014...  \n3      https://www.bbc.com/persian/arts/2014/08/14080...  \n4      https://www.bbc.com/persian/arts/2014/08/14080...  \n...                                                  ...  \n30004  https://www.bbc.com/persian/world/2014/08/1408...  \n30005  https://www.bbc.com/persian/world/2014/08/1408...  \n30006  https://www.bbc.com/persian/world/2014/08/1408...  \n30007  https://www.bbc.com/persian/blogs/2014/08/1408...  \n30008  https://www.bbc.com/persian/iran/2014/08/14080...  \n\n[30009 rows x 3 columns]",
      "text/html": "<div>\n<style scoped>\n    .dataframe tbody tr th:only-of-type {\n        vertical-align: middle;\n    }\n\n    .dataframe tbody tr th {\n        vertical-align: top;\n    }\n\n    .dataframe thead th {\n        text-align: right;\n    }\n</style>\n<table border=\"1\" class=\"dataframe\">\n  <thead>\n    <tr style=\"text-align: right;\">\n      <th></th>\n      <th>id</th>\n      <th>paragraph</th>\n      <th>link</th>\n    </tr>\n  </thead>\n  <tbody>\n    <tr>\n      <th>0</th>\n      <td>100</td>\n      <td>یونس عساکره دست فروش خرمشهری، چند روز پس از خو...</td>\n      <td>https://www.bbc.com/persian/blogs/2015/03/1503...</td>\n    </tr>\n    <tr>\n      <th>1</th>\n      <td>1000</td>\n      <td>آتشفشان ویلاریکا در جنوب شیلی بعد از هفته‌ها ا...</td>\n      <td>https://www.bbc.com/persian/world/2015/03/1503...</td>\n    </tr>\n    <tr>\n      <th>2</th>\n      <td>10000</td>\n      <td>مقام‌های وزارت مالیه/دارایی افغانستان ابراز نگ...</td>\n      <td>https://www.bbc.com/persian/interactivity/2014...</td>\n    </tr>\n    <tr>\n      <th>3</th>\n      <td>10001</td>\n      <td>مرداد ماه امسال، پنجاه و پنج سال از مرگ قمرالم...</td>\n      <td>https://www.bbc.com/persian/arts/2014/08/14080...</td>\n    </tr>\n    <tr>\n      <th>4</th>\n      <td>10002</td>\n      <td>جیک چپمن، هنرمند بریتانیایی می گوید که بردن کو...</td>\n      <td>https://www.bbc.com/persian/arts/2014/08/14080...</td>\n    </tr>\n    <tr>\n      <th>...</th>\n      <td>...</td>\n      <td>...</td>\n      <td>...</td>\n    </tr>\n    <tr>\n      <th>30004</th>\n      <td>9994</td>\n      <td>یونیسف، صندوق کودکان ملل متحد روز سه‌شنبه ۵ او...</td>\n      <td>https://www.bbc.com/persian/world/2014/08/1408...</td>\n    </tr>\n    <tr>\n      <th>30005</th>\n      <td>9995</td>\n      <td>امپراتوری اتریش-مجارستان، صربستان را در ترور آ...</td>\n      <td>https://www.bbc.com/persian/world/2014/08/1408...</td>\n    </tr>\n    <tr>\n      <th>30006</th>\n      <td>9996</td>\n      <td>بارونس سعیده وارثی، یکی از معاونان وزارت خارجه...</td>\n      <td>https://www.bbc.com/persian/world/2014/08/1408...</td>\n    </tr>\n    <tr>\n      <th>30007</th>\n      <td>9998</td>\n      <td>نیروهای «دولت اسلامی عراق و شام» طی چند روز گذ...</td>\n      <td>https://www.bbc.com/persian/blogs/2014/08/1408...</td>\n    </tr>\n    <tr>\n      <th>30008</th>\n      <td>9999</td>\n      <td>برخی از رسانه ها از اعتراض مکتوب امارات متحده ...</td>\n      <td>https://www.bbc.com/persian/iran/2014/08/14080...</td>\n    </tr>\n  </tbody>\n</table>\n<p>30009 rows × 3 columns</p>\n</div>"
     },
     "execution_count": 27,
     "metadata": {},
     "output_type": "execute_result"
    }
   ],
   "source": [
    "pd.DataFrame(list_of_dict_persian)"
   ],
   "metadata": {
    "collapsed": false
   }
  }
 ],
 "metadata": {
  "kernelspec": {
   "display_name": "Python 3",
   "language": "python",
   "name": "python3"
  },
  "language_info": {
   "codemirror_mode": {
    "name": "ipython",
    "version": 2
   },
   "file_extension": ".py",
   "mimetype": "text/x-python",
   "name": "python",
   "nbconvert_exporter": "python",
   "pygments_lexer": "ipython2",
   "version": "2.7.6"
  }
 },
 "nbformat": 4,
 "nbformat_minor": 0
}
