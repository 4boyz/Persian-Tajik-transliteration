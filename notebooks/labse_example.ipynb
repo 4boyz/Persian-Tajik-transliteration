{
 "cells": [
  {
   "cell_type": "code",
   "execution_count": 13,
   "metadata": {},
   "outputs": [],
   "source": [
    "from sentence_transformers import SentenceTransformer\n",
    "import numpy as np"
   ]
  },
  {
   "cell_type": "code",
   "execution_count": 14,
   "metadata": {},
   "outputs": [],
   "source": [
    "model = SentenceTransformer('sentence-transformers/LaBSE')"
   ]
  },
  {
   "cell_type": "code",
   "execution_count": 33,
   "metadata": {},
   "outputs": [],
   "source": [
    "sentences_not_equals = [\"This is an example sentence\", \"Each sentence is converted\"]\n",
    "sentences_almost_equals = [\"This is an example sentence\", \"This is almost example sentence\"]\n",
    "sentences_with_replace = [\"This is replaced example sentences\", \"This is example replaced sentences\"]\n",
    "sentences_with_replace_another = [\"This was example sentences\", \"This is example sentences\"]\n",
    "sentences_equals = [\"This is equals example sentences\", \"This is equals example sentences\"]\n",
    "\n",
    "embeddings_not_equals = model.encode(sentences_not_equals)\n",
    "embeddings_almost_equals = model.encode(sentences_almost_equals)\n",
    "embeddings_with_replace = model.encode(sentences_with_replace)\n",
    "embeddings_with_replace_another = model.encode(sentences_with_replace_another)\n",
    "embeddings_equals = model.encode(sentences_equals)"
   ]
  },
  {
   "cell_type": "code",
   "execution_count": 34,
   "metadata": {},
   "outputs": [
    {
     "name": "stdout",
     "output_type": "stream",
     "text": [
      "0.44737363\n",
      "0.8501442\n",
      "0.9266728\n",
      "0.9457084\n",
      "1.0\n"
     ]
    }
   ],
   "source": [
    "def cosine(embedding):\n",
    "        return np.dot(a=embedding[0], b=embedding[1])\n",
    "\n",
    "print('\\n'.join(\n",
    "        map(lambda x: str(x), [\n",
    "                cosine(embeddings_not_equals), \n",
    "                cosine(embeddings_almost_equals), \n",
    "                cosine(embeddings_with_replace_another),\n",
    "                cosine(embeddings_with_replace),\n",
    "                cosine(embeddings_equals),\n",
    "        ])))"
   ]
  }
 ],
 "metadata": {
  "kernelspec": {
   "display_name": "Python 3.10.5 64-bit",
   "language": "python",
   "name": "python3"
  },
  "language_info": {
   "codemirror_mode": {
    "name": "ipython",
    "version": 3
   },
   "file_extension": ".py",
   "mimetype": "text/x-python",
   "name": "python",
   "nbconvert_exporter": "python",
   "pygments_lexer": "ipython3",
   "version": "3.10.5"
  },
  "orig_nbformat": 4,
  "vscode": {
   "interpreter": {
    "hash": "1163033b3a67b7271a936ce7c571531b75eab96758d1011b0595f11a015c9e56"
   }
  }
 },
 "nbformat": 4,
 "nbformat_minor": 2
}
