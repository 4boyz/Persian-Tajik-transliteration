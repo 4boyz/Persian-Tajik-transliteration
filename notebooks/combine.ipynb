{
 "cells": [
  {
   "cell_type": "code",
   "execution_count": 3,
   "outputs": [],
   "source": [
    "import pandas as pd"
   ],
   "metadata": {
    "collapsed": false,
    "pycharm": {
     "name": "#%%\n"
    }
   }
  },
  {
   "cell_type": "code",
   "execution_count": 4,
   "outputs": [
    {
     "data": {
      "text/plain": "       tajik_id     id                                              title  \\\n0             1  26706  Flying Homay on the European Nights;Overview o...   \n1             1  33564                     Iran in the past week;May 1nan   \n2             1  37125                     Iran in the past week;May 1nan   \n3             1  37218                     Iran in the past week;May 1nan   \n4             1   8915  International Crisis Group: Iran and P5+1 unde...   \n...         ...    ...                                                ...   \n36558     12331    531  The trial of two French police on the unrest i...   \n36559     12331   6171      French police warning about 'scary clowns'nan   \n36560     12331   8508  French police attempt to prevent illegal migra...   \n36561     12331   9473  French spy that wrote the story of the monkeysnan   \n36562     12332  39197                          The good wise man diednan   \n\n           prob                                               link  \\\n0      0.406428  https://www.bbc.com/persian/arts/2012/11/12110...   \n1      0.504243  https://www.bbc.com/persian/iran/2011/05/11051...   \n2      0.504243  https://www.bbc.com/persian/iran/2010/04/10042...   \n3      0.504243  https://www.bbc.com/persian/iran/2010/04/10042...   \n4      0.619521  https://www.bbc.com/persian/iran/2014/08/14082...   \n...         ...                                                ...   \n36558  0.585112  https://www.bbc.com/persian/world/2015/03/1503...   \n36559  0.547861  https://www.bbc.com/persian/world/2014/10/1410...   \n36560  0.678811  https://www.bbc.com/persian/world/2014/09/1409...   \n36561  0.492170  https://www.bbc.com/persian/arts/2014/08/14081...   \n36562  0.530388  https://www.bbc.com/persian/iran/2009/11/09111...   \n\n                                              tajik_link  \n0      https://www.bbc.com/tajik/news/2015/03/150331_...  \n1      https://www.bbc.com/tajik/news/2015/03/150331_...  \n2      https://www.bbc.com/tajik/news/2015/03/150331_...  \n3      https://www.bbc.com/tajik/news/2015/03/150331_...  \n4      https://www.bbc.com/tajik/news/2015/03/150331_...  \n...                                                  ...  \n36558  https://www.bbc.com/tajik/news/2009/09/090922_...  \n36559  https://www.bbc.com/tajik/news/2009/09/090922_...  \n36560  https://www.bbc.com/tajik/news/2009/09/090922_...  \n36561  https://www.bbc.com/tajik/news/2009/09/090922_...  \n36562  https://www.bbc.com/tajik/news/2009/09/090922_...  \n\n[36563 rows x 6 columns]",
      "text/html": "<div>\n<style scoped>\n    .dataframe tbody tr th:only-of-type {\n        vertical-align: middle;\n    }\n\n    .dataframe tbody tr th {\n        vertical-align: top;\n    }\n\n    .dataframe thead th {\n        text-align: right;\n    }\n</style>\n<table border=\"1\" class=\"dataframe\">\n  <thead>\n    <tr style=\"text-align: right;\">\n      <th></th>\n      <th>tajik_id</th>\n      <th>id</th>\n      <th>title</th>\n      <th>prob</th>\n      <th>link</th>\n      <th>tajik_link</th>\n    </tr>\n  </thead>\n  <tbody>\n    <tr>\n      <th>0</th>\n      <td>1</td>\n      <td>26706</td>\n      <td>Flying Homay on the European Nights;Overview o...</td>\n      <td>0.406428</td>\n      <td>https://www.bbc.com/persian/arts/2012/11/12110...</td>\n      <td>https://www.bbc.com/tajik/news/2015/03/150331_...</td>\n    </tr>\n    <tr>\n      <th>1</th>\n      <td>1</td>\n      <td>33564</td>\n      <td>Iran in the past week;May 1nan</td>\n      <td>0.504243</td>\n      <td>https://www.bbc.com/persian/iran/2011/05/11051...</td>\n      <td>https://www.bbc.com/tajik/news/2015/03/150331_...</td>\n    </tr>\n    <tr>\n      <th>2</th>\n      <td>1</td>\n      <td>37125</td>\n      <td>Iran in the past week;May 1nan</td>\n      <td>0.504243</td>\n      <td>https://www.bbc.com/persian/iran/2010/04/10042...</td>\n      <td>https://www.bbc.com/tajik/news/2015/03/150331_...</td>\n    </tr>\n    <tr>\n      <th>3</th>\n      <td>1</td>\n      <td>37218</td>\n      <td>Iran in the past week;May 1nan</td>\n      <td>0.504243</td>\n      <td>https://www.bbc.com/persian/iran/2010/04/10042...</td>\n      <td>https://www.bbc.com/tajik/news/2015/03/150331_...</td>\n    </tr>\n    <tr>\n      <th>4</th>\n      <td>1</td>\n      <td>8915</td>\n      <td>International Crisis Group: Iran and P5+1 unde...</td>\n      <td>0.619521</td>\n      <td>https://www.bbc.com/persian/iran/2014/08/14082...</td>\n      <td>https://www.bbc.com/tajik/news/2015/03/150331_...</td>\n    </tr>\n    <tr>\n      <th>...</th>\n      <td>...</td>\n      <td>...</td>\n      <td>...</td>\n      <td>...</td>\n      <td>...</td>\n      <td>...</td>\n    </tr>\n    <tr>\n      <th>36558</th>\n      <td>12331</td>\n      <td>531</td>\n      <td>The trial of two French police on the unrest i...</td>\n      <td>0.585112</td>\n      <td>https://www.bbc.com/persian/world/2015/03/1503...</td>\n      <td>https://www.bbc.com/tajik/news/2009/09/090922_...</td>\n    </tr>\n    <tr>\n      <th>36559</th>\n      <td>12331</td>\n      <td>6171</td>\n      <td>French police warning about 'scary clowns'nan</td>\n      <td>0.547861</td>\n      <td>https://www.bbc.com/persian/world/2014/10/1410...</td>\n      <td>https://www.bbc.com/tajik/news/2009/09/090922_...</td>\n    </tr>\n    <tr>\n      <th>36560</th>\n      <td>12331</td>\n      <td>8508</td>\n      <td>French police attempt to prevent illegal migra...</td>\n      <td>0.678811</td>\n      <td>https://www.bbc.com/persian/world/2014/09/1409...</td>\n      <td>https://www.bbc.com/tajik/news/2009/09/090922_...</td>\n    </tr>\n    <tr>\n      <th>36561</th>\n      <td>12331</td>\n      <td>9473</td>\n      <td>French spy that wrote the story of the monkeysnan</td>\n      <td>0.492170</td>\n      <td>https://www.bbc.com/persian/arts/2014/08/14081...</td>\n      <td>https://www.bbc.com/tajik/news/2009/09/090922_...</td>\n    </tr>\n    <tr>\n      <th>36562</th>\n      <td>12332</td>\n      <td>39197</td>\n      <td>The good wise man diednan</td>\n      <td>0.530388</td>\n      <td>https://www.bbc.com/persian/iran/2009/11/09111...</td>\n      <td>https://www.bbc.com/tajik/news/2009/09/090922_...</td>\n    </tr>\n  </tbody>\n</table>\n<p>36563 rows × 6 columns</p>\n</div>"
     },
     "execution_count": 4,
     "metadata": {},
     "output_type": "execute_result"
    }
   ],
   "source": [
    "file1 = pd.read_csv(\"..\\\\data\\\\matched_links.csv\")\n",
    "file1"
   ],
   "metadata": {
    "collapsed": false,
    "pycharm": {
     "name": "#%%\n"
    }
   }
  },
  {
   "cell_type": "code",
   "execution_count": 5,
   "outputs": [
    {
     "data": {
      "text/plain": "      tajik_id                                        tajik_title\n0        10859  A sustainable attack on Baghdy has gone more t...\n1         1086  A group of group rapers was sentenced to the b...\n2        10860                    Mavzuna took another gold medol\n3        10861          Heruin's discovery in a permanent stomach\n4        10863         Authorities of the officials for \"Leaders\"\n...        ...                                                ...\n9446     10850                     Heart hospital \"for officials\"\n9447     10851  The case against parents to \"indecute to child...\n9448     10853     Three killed in the roads of the road in Kulob\n9449     10855  An apology for anonymity of a man to a virus o...\n9450      1394  Reduction of new tower for the guidance of fli...\n\n[9451 rows x 2 columns]",
      "text/html": "<div>\n<style scoped>\n    .dataframe tbody tr th:only-of-type {\n        vertical-align: middle;\n    }\n\n    .dataframe tbody tr th {\n        vertical-align: top;\n    }\n\n    .dataframe thead th {\n        text-align: right;\n    }\n</style>\n<table border=\"1\" class=\"dataframe\">\n  <thead>\n    <tr style=\"text-align: right;\">\n      <th></th>\n      <th>tajik_id</th>\n      <th>tajik_title</th>\n    </tr>\n  </thead>\n  <tbody>\n    <tr>\n      <th>0</th>\n      <td>10859</td>\n      <td>A sustainable attack on Baghdy has gone more t...</td>\n    </tr>\n    <tr>\n      <th>1</th>\n      <td>1086</td>\n      <td>A group of group rapers was sentenced to the b...</td>\n    </tr>\n    <tr>\n      <th>2</th>\n      <td>10860</td>\n      <td>Mavzuna took another gold medol</td>\n    </tr>\n    <tr>\n      <th>3</th>\n      <td>10861</td>\n      <td>Heruin's discovery in a permanent stomach</td>\n    </tr>\n    <tr>\n      <th>4</th>\n      <td>10863</td>\n      <td>Authorities of the officials for \"Leaders\"</td>\n    </tr>\n    <tr>\n      <th>...</th>\n      <td>...</td>\n      <td>...</td>\n    </tr>\n    <tr>\n      <th>9446</th>\n      <td>10850</td>\n      <td>Heart hospital \"for officials\"</td>\n    </tr>\n    <tr>\n      <th>9447</th>\n      <td>10851</td>\n      <td>The case against parents to \"indecute to child...</td>\n    </tr>\n    <tr>\n      <th>9448</th>\n      <td>10853</td>\n      <td>Three killed in the roads of the road in Kulob</td>\n    </tr>\n    <tr>\n      <th>9449</th>\n      <td>10855</td>\n      <td>An apology for anonymity of a man to a virus o...</td>\n    </tr>\n    <tr>\n      <th>9450</th>\n      <td>1394</td>\n      <td>Reduction of new tower for the guidance of fli...</td>\n    </tr>\n  </tbody>\n</table>\n<p>9451 rows × 2 columns</p>\n</div>"
     },
     "execution_count": 5,
     "metadata": {},
     "output_type": "execute_result"
    }
   ],
   "source": [
    "file2 = pd.read_csv(\"..\\\\data\\\\tajik_titles_translated.csv\", on_bad_lines='skip')\n",
    "file2"
   ],
   "metadata": {
    "collapsed": false,
    "pycharm": {
     "name": "#%%\n"
    }
   }
  },
  {
   "cell_type": "code",
   "execution_count": 6,
   "outputs": [
    {
     "data": {
      "text/plain": "       tajik_id       id                                              title  \\\n0             1  26706.0  Flying Homay on the European Nights;Overview o...   \n1             1  33564.0                     Iran in the past week;May 1nan   \n2             1  37125.0                     Iran in the past week;May 1nan   \n3             1  37218.0                     Iran in the past week;May 1nan   \n4             1   8915.0  International Crisis Group: Iran and P5+1 unde...   \n...         ...      ...                                                ...   \n39012     10800      NaN                                                NaN   \n39013     10804      NaN                                                NaN   \n39014     10809      NaN                                                NaN   \n39015     10825      NaN                                                NaN   \n39016     10832      NaN                                                NaN   \n\n           prob                                               link  \\\n0      0.406428  https://www.bbc.com/persian/arts/2012/11/12110...   \n1      0.504243  https://www.bbc.com/persian/iran/2011/05/11051...   \n2      0.504243  https://www.bbc.com/persian/iran/2010/04/10042...   \n3      0.504243  https://www.bbc.com/persian/iran/2010/04/10042...   \n4      0.619521  https://www.bbc.com/persian/iran/2014/08/14082...   \n...         ...                                                ...   \n39012       NaN                                                NaN   \n39013       NaN                                                NaN   \n39014       NaN                                                NaN   \n39015       NaN                                                NaN   \n39016       NaN                                                NaN   \n\n                                              tajik_link  \\\n0      https://www.bbc.com/tajik/news/2015/03/150331_...   \n1      https://www.bbc.com/tajik/news/2015/03/150331_...   \n2      https://www.bbc.com/tajik/news/2015/03/150331_...   \n3      https://www.bbc.com/tajik/news/2015/03/150331_...   \n4      https://www.bbc.com/tajik/news/2015/03/150331_...   \n...                                                  ...   \n39012                                                NaN   \n39013                                                NaN   \n39014                                                NaN   \n39015                                                NaN   \n39016                                                NaN   \n\n                                             tajik_title  \n0      Iran's atums and group 5 + 1 group: a day crum...  \n1      Iran's atums and group 5 + 1 group: a day crum...  \n2      Iran's atums and group 5 + 1 group: a day crum...  \n3      Iran's atums and group 5 + 1 group: a day crum...  \n4      Iran's atums and group 5 + 1 group: a day crum...  \n...                                                  ...  \n39012        Entrepreneurs of the Republic of Tajikistan  \n39013  Obama brand from the population of the New Orlean  \n39014  85 killed in the roads of the road in eight mo...  \n39015     Included the diseases of the melceric diseases  \n39016                           Readyatory mode in Sughd  \n\n[39017 rows x 7 columns]",
      "text/html": "<div>\n<style scoped>\n    .dataframe tbody tr th:only-of-type {\n        vertical-align: middle;\n    }\n\n    .dataframe tbody tr th {\n        vertical-align: top;\n    }\n\n    .dataframe thead th {\n        text-align: right;\n    }\n</style>\n<table border=\"1\" class=\"dataframe\">\n  <thead>\n    <tr style=\"text-align: right;\">\n      <th></th>\n      <th>tajik_id</th>\n      <th>id</th>\n      <th>title</th>\n      <th>prob</th>\n      <th>link</th>\n      <th>tajik_link</th>\n      <th>tajik_title</th>\n    </tr>\n  </thead>\n  <tbody>\n    <tr>\n      <th>0</th>\n      <td>1</td>\n      <td>26706.0</td>\n      <td>Flying Homay on the European Nights;Overview o...</td>\n      <td>0.406428</td>\n      <td>https://www.bbc.com/persian/arts/2012/11/12110...</td>\n      <td>https://www.bbc.com/tajik/news/2015/03/150331_...</td>\n      <td>Iran's atums and group 5 + 1 group: a day crum...</td>\n    </tr>\n    <tr>\n      <th>1</th>\n      <td>1</td>\n      <td>33564.0</td>\n      <td>Iran in the past week;May 1nan</td>\n      <td>0.504243</td>\n      <td>https://www.bbc.com/persian/iran/2011/05/11051...</td>\n      <td>https://www.bbc.com/tajik/news/2015/03/150331_...</td>\n      <td>Iran's atums and group 5 + 1 group: a day crum...</td>\n    </tr>\n    <tr>\n      <th>2</th>\n      <td>1</td>\n      <td>37125.0</td>\n      <td>Iran in the past week;May 1nan</td>\n      <td>0.504243</td>\n      <td>https://www.bbc.com/persian/iran/2010/04/10042...</td>\n      <td>https://www.bbc.com/tajik/news/2015/03/150331_...</td>\n      <td>Iran's atums and group 5 + 1 group: a day crum...</td>\n    </tr>\n    <tr>\n      <th>3</th>\n      <td>1</td>\n      <td>37218.0</td>\n      <td>Iran in the past week;May 1nan</td>\n      <td>0.504243</td>\n      <td>https://www.bbc.com/persian/iran/2010/04/10042...</td>\n      <td>https://www.bbc.com/tajik/news/2015/03/150331_...</td>\n      <td>Iran's atums and group 5 + 1 group: a day crum...</td>\n    </tr>\n    <tr>\n      <th>4</th>\n      <td>1</td>\n      <td>8915.0</td>\n      <td>International Crisis Group: Iran and P5+1 unde...</td>\n      <td>0.619521</td>\n      <td>https://www.bbc.com/persian/iran/2014/08/14082...</td>\n      <td>https://www.bbc.com/tajik/news/2015/03/150331_...</td>\n      <td>Iran's atums and group 5 + 1 group: a day crum...</td>\n    </tr>\n    <tr>\n      <th>...</th>\n      <td>...</td>\n      <td>...</td>\n      <td>...</td>\n      <td>...</td>\n      <td>...</td>\n      <td>...</td>\n      <td>...</td>\n    </tr>\n    <tr>\n      <th>39012</th>\n      <td>10800</td>\n      <td>NaN</td>\n      <td>NaN</td>\n      <td>NaN</td>\n      <td>NaN</td>\n      <td>NaN</td>\n      <td>Entrepreneurs of the Republic of Tajikistan</td>\n    </tr>\n    <tr>\n      <th>39013</th>\n      <td>10804</td>\n      <td>NaN</td>\n      <td>NaN</td>\n      <td>NaN</td>\n      <td>NaN</td>\n      <td>NaN</td>\n      <td>Obama brand from the population of the New Orlean</td>\n    </tr>\n    <tr>\n      <th>39014</th>\n      <td>10809</td>\n      <td>NaN</td>\n      <td>NaN</td>\n      <td>NaN</td>\n      <td>NaN</td>\n      <td>NaN</td>\n      <td>85 killed in the roads of the road in eight mo...</td>\n    </tr>\n    <tr>\n      <th>39015</th>\n      <td>10825</td>\n      <td>NaN</td>\n      <td>NaN</td>\n      <td>NaN</td>\n      <td>NaN</td>\n      <td>NaN</td>\n      <td>Included the diseases of the melceric diseases</td>\n    </tr>\n    <tr>\n      <th>39016</th>\n      <td>10832</td>\n      <td>NaN</td>\n      <td>NaN</td>\n      <td>NaN</td>\n      <td>NaN</td>\n      <td>NaN</td>\n      <td>Readyatory mode in Sughd</td>\n    </tr>\n  </tbody>\n</table>\n<p>39017 rows × 7 columns</p>\n</div>"
     },
     "execution_count": 6,
     "metadata": {},
     "output_type": "execute_result"
    }
   ],
   "source": [
    "combined = file1.merge(file2,\n",
    "                       on= \"tajik_id\",\n",
    "                       how=  'outer')\n",
    "combined"
   ],
   "metadata": {
    "collapsed": false,
    "pycharm": {
     "name": "#%%\n"
    }
   }
  }
 ],
 "metadata": {
  "kernelspec": {
   "display_name": "Python 3",
   "language": "python",
   "name": "python3"
  },
  "language_info": {
   "codemirror_mode": {
    "name": "ipython",
    "version": 2
   },
   "file_extension": ".py",
   "mimetype": "text/x-python",
   "name": "python",
   "nbconvert_exporter": "python",
   "pygments_lexer": "ipython2",
   "version": "2.7.6"
  }
 },
 "nbformat": 4,
 "nbformat_minor": 0
}