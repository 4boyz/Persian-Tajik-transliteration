{
 "cells": [
  {
   "cell_type": "code",
   "execution_count": 1,
   "metadata": {},
   "outputs": [],
   "source": [
    "import pandas as ps\n",
    "import re\n",
    "from pandas import DataFrame"
   ]
  },
  {
   "cell_type": "code",
   "execution_count": 2,
   "metadata": {},
   "outputs": [],
   "source": [
    "MATCHED_LINKS = 'matched_links.csv'\n",
    "PERSIAN_LINKS = '../links/beauty_links_persian.csv'\n",
    "TAJIK_LINKS = '../links//beauty_links_tajik.csv'"
   ]
  },
  {
   "cell_type": "code",
   "execution_count": 3,
   "metadata": {},
   "outputs": [],
   "source": [
    "tajik_links = ps.read_csv(TAJIK_LINKS, delimiter=',', names=['id', 'link', 'etc'])\n",
    "persian_links = ps.read_csv(PERSIAN_LINKS, delimiter=',', names=['id', 'link', 'etc'])\n",
    "matched_links = DataFrame()"
   ]
  },
  {
   "cell_type": "code",
   "execution_count": 4,
   "metadata": {},
   "outputs": [],
   "source": [
    "def safe_get_el(i, list: list, default_val=None):\n",
    "    if len(list)- 1 < abs(i): return default_val\n",
    "    return list[i]\n",
    "\n",
    "def clear_links(df: ps.DataFrame):\n",
    "    local_df = df.drop('etc', axis=1).dropna()\n",
    "    local_df['valid'] = local_df['link'].apply(lambda x: len(x.split('/')) == 8)\n",
    "    local_df = local_df[local_df['valid'] == True]\n",
    "    local_df = local_df.drop('valid', axis=1)\n",
    "    local_df['title'] = local_df['link'].apply(lambda x: safe_get_el(-1, x.split('/')).replace('.shtml', ''))\n",
    "    local_df['month'] = local_df['link'].apply(lambda x: safe_get_el(-2, x.split('/')))\n",
    "    local_df['year'] = local_df['link'].apply(lambda x: safe_get_el(-3, x.split('/')))\n",
    "    local_df['tag'] = local_df['link'].apply(lambda x: safe_get_el(-4, x.split('/')))\n",
    "    local_df['lang'] = local_df['link'].apply(lambda x: safe_get_el(-5, x.split('/')))\n",
    "\n",
    "    \n",
    "    \n",
    "    return local_df"
   ]
  },
  {
   "cell_type": "code",
   "execution_count": 5,
   "metadata": {},
   "outputs": [
    {
     "data": {
      "text/plain": "          id                                               link  \\\n0          0  https://www.bbc.com/tajik/news/2015/03/150331_...   \n1          1  https://www.bbc.com/tajik/news/2015/03/150331_...   \n2          2  https://www.bbc.com/tajik/news/2015/03/150330_...   \n3          3  https://www.bbc.com/tajik/news/2015/03/150329_...   \n4          4  https://www.bbc.com/tajik/news/2015/03/150329_...   \n...      ...                                                ...   \n12330  12330  https://www.bbc.com/tajik/news/2009/09/090922_...   \n12331  12331  https://www.bbc.com/tajik/news/2009/09/090922_...   \n12332  12332  https://www.bbc.com/tajik/news/2009/09/090922_...   \n12333  12333  https://www.bbc.com/tajik/news/2009/09/090922_...   \n12334  12334  https://www.bbc.com/tajik/news/2009/09/090921_...   \n\n                                                title month  year   tag   lang  \n0                        150331_l16_bbc-tajik_closure    03  2015  news  tajik  \n1               150331_ea_iran_nuclear_talks_31_march    03  2015  news  tajik  \n2               150330_ea_iran_nuclear_talks_30_march    03  2015  news  tajik  \n3          150329_l16_singapore_founder_death_funeral    03  2015  news  tajik  \n4      150329_l16_france_local_elections_second_round    03  2015  news  tajik  \n...                                               ...   ...   ...   ...    ...  \n12330                 090922_zkh_dfid_pressconference    09  2009  news  tajik  \n12331                       090922_rm_calais_migrants    09  2009  news  tajik  \n12332                            090922_mm_rudaki_day    09  2009  news  tajik  \n12333                          090922_zkh_qurganteppa    09  2009  news  tajik  \n12334                        090921_zkh_media_tojnews    09  2009  news  tajik  \n\n[12316 rows x 7 columns]",
      "text/html": "<div>\n<style scoped>\n    .dataframe tbody tr th:only-of-type {\n        vertical-align: middle;\n    }\n\n    .dataframe tbody tr th {\n        vertical-align: top;\n    }\n\n    .dataframe thead th {\n        text-align: right;\n    }\n</style>\n<table border=\"1\" class=\"dataframe\">\n  <thead>\n    <tr style=\"text-align: right;\">\n      <th></th>\n      <th>id</th>\n      <th>link</th>\n      <th>title</th>\n      <th>month</th>\n      <th>year</th>\n      <th>tag</th>\n      <th>lang</th>\n    </tr>\n  </thead>\n  <tbody>\n    <tr>\n      <th>0</th>\n      <td>0</td>\n      <td>https://www.bbc.com/tajik/news/2015/03/150331_...</td>\n      <td>150331_l16_bbc-tajik_closure</td>\n      <td>03</td>\n      <td>2015</td>\n      <td>news</td>\n      <td>tajik</td>\n    </tr>\n    <tr>\n      <th>1</th>\n      <td>1</td>\n      <td>https://www.bbc.com/tajik/news/2015/03/150331_...</td>\n      <td>150331_ea_iran_nuclear_talks_31_march</td>\n      <td>03</td>\n      <td>2015</td>\n      <td>news</td>\n      <td>tajik</td>\n    </tr>\n    <tr>\n      <th>2</th>\n      <td>2</td>\n      <td>https://www.bbc.com/tajik/news/2015/03/150330_...</td>\n      <td>150330_ea_iran_nuclear_talks_30_march</td>\n      <td>03</td>\n      <td>2015</td>\n      <td>news</td>\n      <td>tajik</td>\n    </tr>\n    <tr>\n      <th>3</th>\n      <td>3</td>\n      <td>https://www.bbc.com/tajik/news/2015/03/150329_...</td>\n      <td>150329_l16_singapore_founder_death_funeral</td>\n      <td>03</td>\n      <td>2015</td>\n      <td>news</td>\n      <td>tajik</td>\n    </tr>\n    <tr>\n      <th>4</th>\n      <td>4</td>\n      <td>https://www.bbc.com/tajik/news/2015/03/150329_...</td>\n      <td>150329_l16_france_local_elections_second_round</td>\n      <td>03</td>\n      <td>2015</td>\n      <td>news</td>\n      <td>tajik</td>\n    </tr>\n    <tr>\n      <th>...</th>\n      <td>...</td>\n      <td>...</td>\n      <td>...</td>\n      <td>...</td>\n      <td>...</td>\n      <td>...</td>\n      <td>...</td>\n    </tr>\n    <tr>\n      <th>12330</th>\n      <td>12330</td>\n      <td>https://www.bbc.com/tajik/news/2009/09/090922_...</td>\n      <td>090922_zkh_dfid_pressconference</td>\n      <td>09</td>\n      <td>2009</td>\n      <td>news</td>\n      <td>tajik</td>\n    </tr>\n    <tr>\n      <th>12331</th>\n      <td>12331</td>\n      <td>https://www.bbc.com/tajik/news/2009/09/090922_...</td>\n      <td>090922_rm_calais_migrants</td>\n      <td>09</td>\n      <td>2009</td>\n      <td>news</td>\n      <td>tajik</td>\n    </tr>\n    <tr>\n      <th>12332</th>\n      <td>12332</td>\n      <td>https://www.bbc.com/tajik/news/2009/09/090922_...</td>\n      <td>090922_mm_rudaki_day</td>\n      <td>09</td>\n      <td>2009</td>\n      <td>news</td>\n      <td>tajik</td>\n    </tr>\n    <tr>\n      <th>12333</th>\n      <td>12333</td>\n      <td>https://www.bbc.com/tajik/news/2009/09/090922_...</td>\n      <td>090922_zkh_qurganteppa</td>\n      <td>09</td>\n      <td>2009</td>\n      <td>news</td>\n      <td>tajik</td>\n    </tr>\n    <tr>\n      <th>12334</th>\n      <td>12334</td>\n      <td>https://www.bbc.com/tajik/news/2009/09/090921_...</td>\n      <td>090921_zkh_media_tojnews</td>\n      <td>09</td>\n      <td>2009</td>\n      <td>news</td>\n      <td>tajik</td>\n    </tr>\n  </tbody>\n</table>\n<p>12316 rows × 7 columns</p>\n</div>"
     },
     "execution_count": 5,
     "metadata": {},
     "output_type": "execute_result"
    }
   ],
   "source": [
    "tajik_links = clear_links(tajik_links)\n",
    "tajik_links"
   ]
  },
  {
   "cell_type": "code",
   "execution_count": 6,
   "metadata": {},
   "outputs": [
    {
     "data": {
      "text/plain": "          id                                               link  \\\n0          1  https://www.bbc.com/persian/iran/2015/03/15040...   \n1          2  https://www.bbc.com/persian/iran/2015/03/15040...   \n3          4  https://www.bbc.com/persian/world/2015/03/1503...   \n8          9  https://www.bbc.com/persian/iran/2015/03/15033...   \n10        11  https://www.bbc.com/persian/world/2015/03/1503...   \n...      ...                                                ...   \n40569  40579  https://www.bbc.com/persian/iran/2009/09/09090...   \n40570  40580  https://www.bbc.com/persian/iran/2009/09/09090...   \n40571  40581  https://www.bbc.com/persian/science/2009/09/09...   \n40572  40582  https://www.bbc.com/persian/sport/2009/09/0908...   \n40573  40583  https://www.bbc.com/persian/iran/2009/08/09083...   \n\n                                        title month  year      tag     lang  \n0      150401_l51_nuclear_talks_lausanne_day7    03  2015     iran  persian  \n1      150401_l51_nuclear_talks_lausanne_day7    03  2015     iran  persian  \n3              150331_u04_germanwinds_copilot    03  2015    world  persian  \n8               150331_l45_erdogan_iran_visit    03  2015     iran  persian  \n10               150323_u04_iraniraq_pilgrims    03  2015    world  persian  \n...                                       ...   ...   ...      ...      ...  \n40569                     090901_he_mortazavi    09  2009     iran  persian  \n40570                      090901_si_mb_press    09  2009     iran  persian  \n40571                   090831_si_shuttle_iss    09  2009  science  persian  \n40572                090831_si_me_iranbahrain    09  2009    sport  persian  \n40573     090831_wkf-missingamerican-berkeley    08  2009     iran  persian  \n\n[37146 rows x 7 columns]",
      "text/html": "<div>\n<style scoped>\n    .dataframe tbody tr th:only-of-type {\n        vertical-align: middle;\n    }\n\n    .dataframe tbody tr th {\n        vertical-align: top;\n    }\n\n    .dataframe thead th {\n        text-align: right;\n    }\n</style>\n<table border=\"1\" class=\"dataframe\">\n  <thead>\n    <tr style=\"text-align: right;\">\n      <th></th>\n      <th>id</th>\n      <th>link</th>\n      <th>title</th>\n      <th>month</th>\n      <th>year</th>\n      <th>tag</th>\n      <th>lang</th>\n    </tr>\n  </thead>\n  <tbody>\n    <tr>\n      <th>0</th>\n      <td>1</td>\n      <td>https://www.bbc.com/persian/iran/2015/03/15040...</td>\n      <td>150401_l51_nuclear_talks_lausanne_day7</td>\n      <td>03</td>\n      <td>2015</td>\n      <td>iran</td>\n      <td>persian</td>\n    </tr>\n    <tr>\n      <th>1</th>\n      <td>2</td>\n      <td>https://www.bbc.com/persian/iran/2015/03/15040...</td>\n      <td>150401_l51_nuclear_talks_lausanne_day7</td>\n      <td>03</td>\n      <td>2015</td>\n      <td>iran</td>\n      <td>persian</td>\n    </tr>\n    <tr>\n      <th>3</th>\n      <td>4</td>\n      <td>https://www.bbc.com/persian/world/2015/03/1503...</td>\n      <td>150331_u04_germanwinds_copilot</td>\n      <td>03</td>\n      <td>2015</td>\n      <td>world</td>\n      <td>persian</td>\n    </tr>\n    <tr>\n      <th>8</th>\n      <td>9</td>\n      <td>https://www.bbc.com/persian/iran/2015/03/15033...</td>\n      <td>150331_l45_erdogan_iran_visit</td>\n      <td>03</td>\n      <td>2015</td>\n      <td>iran</td>\n      <td>persian</td>\n    </tr>\n    <tr>\n      <th>10</th>\n      <td>11</td>\n      <td>https://www.bbc.com/persian/world/2015/03/1503...</td>\n      <td>150323_u04_iraniraq_pilgrims</td>\n      <td>03</td>\n      <td>2015</td>\n      <td>world</td>\n      <td>persian</td>\n    </tr>\n    <tr>\n      <th>...</th>\n      <td>...</td>\n      <td>...</td>\n      <td>...</td>\n      <td>...</td>\n      <td>...</td>\n      <td>...</td>\n      <td>...</td>\n    </tr>\n    <tr>\n      <th>40569</th>\n      <td>40579</td>\n      <td>https://www.bbc.com/persian/iran/2009/09/09090...</td>\n      <td>090901_he_mortazavi</td>\n      <td>09</td>\n      <td>2009</td>\n      <td>iran</td>\n      <td>persian</td>\n    </tr>\n    <tr>\n      <th>40570</th>\n      <td>40580</td>\n      <td>https://www.bbc.com/persian/iran/2009/09/09090...</td>\n      <td>090901_si_mb_press</td>\n      <td>09</td>\n      <td>2009</td>\n      <td>iran</td>\n      <td>persian</td>\n    </tr>\n    <tr>\n      <th>40571</th>\n      <td>40581</td>\n      <td>https://www.bbc.com/persian/science/2009/09/09...</td>\n      <td>090831_si_shuttle_iss</td>\n      <td>09</td>\n      <td>2009</td>\n      <td>science</td>\n      <td>persian</td>\n    </tr>\n    <tr>\n      <th>40572</th>\n      <td>40582</td>\n      <td>https://www.bbc.com/persian/sport/2009/09/0908...</td>\n      <td>090831_si_me_iranbahrain</td>\n      <td>09</td>\n      <td>2009</td>\n      <td>sport</td>\n      <td>persian</td>\n    </tr>\n    <tr>\n      <th>40573</th>\n      <td>40583</td>\n      <td>https://www.bbc.com/persian/iran/2009/08/09083...</td>\n      <td>090831_wkf-missingamerican-berkeley</td>\n      <td>08</td>\n      <td>2009</td>\n      <td>iran</td>\n      <td>persian</td>\n    </tr>\n  </tbody>\n</table>\n<p>37146 rows × 7 columns</p>\n</div>"
     },
     "execution_count": 6,
     "metadata": {},
     "output_type": "execute_result"
    }
   ],
   "source": [
    "persian_links = clear_links(persian_links)\n",
    "persian_links"
   ]
  },
  {
   "cell_type": "code",
   "execution_count": 7,
   "metadata": {},
   "outputs": [
    {
     "data": {
      "text/plain": "          id                                               link  \\\n0          0  https://www.bbc.com/tajik/news/2015/03/150331_...   \n1          1  https://www.bbc.com/tajik/news/2015/03/150331_...   \n2          2  https://www.bbc.com/tajik/news/2015/03/150330_...   \n3          3  https://www.bbc.com/tajik/news/2015/03/150329_...   \n4          4  https://www.bbc.com/tajik/news/2015/03/150329_...   \n...      ...                                                ...   \n12330  12330  https://www.bbc.com/tajik/news/2009/09/090922_...   \n12331  12331  https://www.bbc.com/tajik/news/2009/09/090922_...   \n12332  12332  https://www.bbc.com/tajik/news/2009/09/090922_...   \n12333  12333  https://www.bbc.com/tajik/news/2009/09/090922_...   \n12334  12334  https://www.bbc.com/tajik/news/2009/09/090921_...   \n\n                                                title month  year   tag   lang  \n0                        150331_l16_bbc-tajik_closure    03  2015  news  tajik  \n1               150331_ea_iran_nuclear_talks_31_march    03  2015  news  tajik  \n2               150330_ea_iran_nuclear_talks_30_march    03  2015  news  tajik  \n3          150329_l16_singapore_founder_death_funeral    03  2015  news  tajik  \n4      150329_l16_france_local_elections_second_round    03  2015  news  tajik  \n...                                               ...   ...   ...   ...    ...  \n12330                 090922_zkh_dfid_pressconference    09  2009  news  tajik  \n12331                       090922_rm_calais_migrants    09  2009  news  tajik  \n12332                            090922_mm_rudaki_day    09  2009  news  tajik  \n12333                          090922_zkh_qurganteppa    09  2009  news  tajik  \n12334                        090921_zkh_media_tojnews    09  2009  news  tajik  \n\n[12316 rows x 7 columns]",
      "text/html": "<div>\n<style scoped>\n    .dataframe tbody tr th:only-of-type {\n        vertical-align: middle;\n    }\n\n    .dataframe tbody tr th {\n        vertical-align: top;\n    }\n\n    .dataframe thead th {\n        text-align: right;\n    }\n</style>\n<table border=\"1\" class=\"dataframe\">\n  <thead>\n    <tr style=\"text-align: right;\">\n      <th></th>\n      <th>id</th>\n      <th>link</th>\n      <th>title</th>\n      <th>month</th>\n      <th>year</th>\n      <th>tag</th>\n      <th>lang</th>\n    </tr>\n  </thead>\n  <tbody>\n    <tr>\n      <th>0</th>\n      <td>0</td>\n      <td>https://www.bbc.com/tajik/news/2015/03/150331_...</td>\n      <td>150331_l16_bbc-tajik_closure</td>\n      <td>03</td>\n      <td>2015</td>\n      <td>news</td>\n      <td>tajik</td>\n    </tr>\n    <tr>\n      <th>1</th>\n      <td>1</td>\n      <td>https://www.bbc.com/tajik/news/2015/03/150331_...</td>\n      <td>150331_ea_iran_nuclear_talks_31_march</td>\n      <td>03</td>\n      <td>2015</td>\n      <td>news</td>\n      <td>tajik</td>\n    </tr>\n    <tr>\n      <th>2</th>\n      <td>2</td>\n      <td>https://www.bbc.com/tajik/news/2015/03/150330_...</td>\n      <td>150330_ea_iran_nuclear_talks_30_march</td>\n      <td>03</td>\n      <td>2015</td>\n      <td>news</td>\n      <td>tajik</td>\n    </tr>\n    <tr>\n      <th>3</th>\n      <td>3</td>\n      <td>https://www.bbc.com/tajik/news/2015/03/150329_...</td>\n      <td>150329_l16_singapore_founder_death_funeral</td>\n      <td>03</td>\n      <td>2015</td>\n      <td>news</td>\n      <td>tajik</td>\n    </tr>\n    <tr>\n      <th>4</th>\n      <td>4</td>\n      <td>https://www.bbc.com/tajik/news/2015/03/150329_...</td>\n      <td>150329_l16_france_local_elections_second_round</td>\n      <td>03</td>\n      <td>2015</td>\n      <td>news</td>\n      <td>tajik</td>\n    </tr>\n    <tr>\n      <th>...</th>\n      <td>...</td>\n      <td>...</td>\n      <td>...</td>\n      <td>...</td>\n      <td>...</td>\n      <td>...</td>\n      <td>...</td>\n    </tr>\n    <tr>\n      <th>12330</th>\n      <td>12330</td>\n      <td>https://www.bbc.com/tajik/news/2009/09/090922_...</td>\n      <td>090922_zkh_dfid_pressconference</td>\n      <td>09</td>\n      <td>2009</td>\n      <td>news</td>\n      <td>tajik</td>\n    </tr>\n    <tr>\n      <th>12331</th>\n      <td>12331</td>\n      <td>https://www.bbc.com/tajik/news/2009/09/090922_...</td>\n      <td>090922_rm_calais_migrants</td>\n      <td>09</td>\n      <td>2009</td>\n      <td>news</td>\n      <td>tajik</td>\n    </tr>\n    <tr>\n      <th>12332</th>\n      <td>12332</td>\n      <td>https://www.bbc.com/tajik/news/2009/09/090922_...</td>\n      <td>090922_mm_rudaki_day</td>\n      <td>09</td>\n      <td>2009</td>\n      <td>news</td>\n      <td>tajik</td>\n    </tr>\n    <tr>\n      <th>12333</th>\n      <td>12333</td>\n      <td>https://www.bbc.com/tajik/news/2009/09/090922_...</td>\n      <td>090922_zkh_qurganteppa</td>\n      <td>09</td>\n      <td>2009</td>\n      <td>news</td>\n      <td>tajik</td>\n    </tr>\n    <tr>\n      <th>12334</th>\n      <td>12334</td>\n      <td>https://www.bbc.com/tajik/news/2009/09/090921_...</td>\n      <td>090921_zkh_media_tojnews</td>\n      <td>09</td>\n      <td>2009</td>\n      <td>news</td>\n      <td>tajik</td>\n    </tr>\n  </tbody>\n</table>\n<p>12316 rows × 7 columns</p>\n</div>"
     },
     "execution_count": 7,
     "metadata": {},
     "output_type": "execute_result"
    }
   ],
   "source": [
    "tajik_links"
   ]
  },
  {
   "cell_type": "code",
   "execution_count": 8,
   "metadata": {},
   "outputs": [
    {
     "data": {
      "text/plain": "Empty DataFrame\nColumns: [id, link, title, month, year, tag, lang]\nIndex: []",
      "text/html": "<div>\n<style scoped>\n    .dataframe tbody tr th:only-of-type {\n        vertical-align: middle;\n    }\n\n    .dataframe tbody tr th {\n        vertical-align: top;\n    }\n\n    .dataframe thead th {\n        text-align: right;\n    }\n</style>\n<table border=\"1\" class=\"dataframe\">\n  <thead>\n    <tr style=\"text-align: right;\">\n      <th></th>\n      <th>id</th>\n      <th>link</th>\n      <th>title</th>\n      <th>month</th>\n      <th>year</th>\n      <th>tag</th>\n      <th>lang</th>\n    </tr>\n  </thead>\n  <tbody>\n  </tbody>\n</table>\n</div>"
     },
     "execution_count": 8,
     "metadata": {},
     "output_type": "execute_result"
    }
   ],
   "source": [
    "tajik_links[tajik_links.isna().any(axis=1)] # Есть ли пустые строчки с пустыми значениями"
   ]
  },
  {
   "cell_type": "code",
   "execution_count": 9,
   "metadata": {},
   "outputs": [
    {
     "data": {
      "text/plain": "Empty DataFrame\nColumns: [id, link, title, month, year, tag, lang]\nIndex: []",
      "text/html": "<div>\n<style scoped>\n    .dataframe tbody tr th:only-of-type {\n        vertical-align: middle;\n    }\n\n    .dataframe tbody tr th {\n        vertical-align: top;\n    }\n\n    .dataframe thead th {\n        text-align: right;\n    }\n</style>\n<table border=\"1\" class=\"dataframe\">\n  <thead>\n    <tr style=\"text-align: right;\">\n      <th></th>\n      <th>id</th>\n      <th>link</th>\n      <th>title</th>\n      <th>month</th>\n      <th>year</th>\n      <th>tag</th>\n      <th>lang</th>\n    </tr>\n  </thead>\n  <tbody>\n  </tbody>\n</table>\n</div>"
     },
     "execution_count": 9,
     "metadata": {},
     "output_type": "execute_result"
    }
   ],
   "source": [
    "persian_links[persian_links.isna().any(axis=1)]"
   ]
  },
  {
   "cell_type": "code",
   "execution_count": 10,
   "metadata": {},
   "outputs": [
    {
     "data": {
      "text/plain": "array(['news', 'institutional', 'afghanistan', 'interactivity', 'arts',\n       'world', 'tvandradio', 'iran', 'tv', 'science', 'learningenglish',\n       'sport'], dtype=object)"
     },
     "execution_count": 10,
     "metadata": {},
     "output_type": "execute_result"
    }
   ],
   "source": [
    "tajik_links['tag'].unique()"
   ]
  },
  {
   "cell_type": "code",
   "execution_count": 11,
   "metadata": {},
   "outputs": [
    {
     "data": {
      "text/plain": "array(['iran', 'world', 'sport', 'arts', 'science', 'afghanistan',\n       'tvandradio', 'blogs', 'interactivity', 'business',\n       'learningenglish', 'tv', 'institutional', 'services', 'special',\n       '', 'rolling_news', 'radio'], dtype=object)"
     },
     "execution_count": 11,
     "metadata": {},
     "output_type": "execute_result"
    }
   ],
   "source": [
    "persian_links['tag'].unique()"
   ]
  },
  {
   "cell_type": "code",
   "execution_count": 68,
   "metadata": {},
   "outputs": [
    {
     "data": {
      "text/plain": "0        l16\n1         ea\n2         ea\n3        l16\n4        l16\n        ... \n12330    zkh\n12331     rm\n12332     mm\n12333    zkh\n12334    zkh\nName: shit, Length: 12316, dtype: object"
     },
     "execution_count": 68,
     "metadata": {},
     "output_type": "execute_result"
    }
   ],
   "source": [
    "tajik_links['shit'] = tajik_links['title'].apply(lambda x: x.split('_')[1])\n",
    "tajik_links['shit']"
   ]
  },
  {
   "cell_type": "code",
   "execution_count": 151,
   "metadata": {},
   "outputs": [],
   "source": [
    "df_sep = tajik_links['shit'].str.extract('(l\\d*)')\n",
    "seps = (set(df_sep.dropna()[0]))\n",
    "df_other_sep = (tajik_links['shit'].value_counts() > 10)\n",
    "other_sep = set(df_other_sep[df_other_sep].index.values)\n",
    "seps = seps.union(other_sep)"
   ]
  },
  {
   "cell_type": "code",
   "execution_count": 157,
   "outputs": [
    {
     "data": {
      "text/plain": "'_l45|_if|_rln|_l13|_aa|_l26|_l41|_l31|_l15|_l14|_ea|_ak|_og|_mm|_l10|_l30|_sq|_rh|_l72|_l42|_l50|_l55|_l38|_ez|_l16|_l95|_l93|_16|_l37|_zkh|_l03|_l11|_l01|_zm|_l18|_l|_rm|_l78|_l168_'"
     },
     "execution_count": 157,
     "metadata": {},
     "output_type": "execute_result"
    }
   ],
   "source": [
    "temp = '|_'.join(seps)\n",
    "temp = list(temp)\n",
    "temp.append('_')\n",
    "temp.insert(0,'_')\n",
    "shit_str = ''.join(temp)\n",
    "shit_str"
   ],
   "metadata": {
    "collapsed": false
   }
  },
  {
   "cell_type": "code",
   "execution_count": 165,
   "outputs": [],
   "source": [
    "normal_title = tajik_links['title'].apply(lambda x: re.split(shit_str,x)[-1][1:]).apply(lambda x: re.split('(\\d_)',x)[-1])"
   ],
   "metadata": {
    "collapsed": false
   }
  },
  {
   "cell_type": "code",
   "execution_count": 166,
   "outputs": [
    {
     "data": {
      "text/plain": "0                      bbc-tajik_closure\n1                                  march\n2                                  march\n3        singapore_founder_death_funeral\n4             cal_elections_second_round\n                      ...               \n12330               dfid_pressconference\n12331                    calais_migrants\n12332                         rudaki_day\n12333                        qurganteppa\n12334                      media_tojnews\nName: title, Length: 12316, dtype: object"
     },
     "execution_count": 166,
     "metadata": {},
     "output_type": "execute_result"
    }
   ],
   "source": [
    "normal_title"
   ],
   "metadata": {
    "collapsed": false
   }
  },
  {
   "cell_type": "code",
   "execution_count": null,
   "outputs": [],
   "source": [],
   "metadata": {
    "collapsed": false
   }
  }
 ],
 "metadata": {
  "kernelspec": {
   "display_name": "Python 3.10.7 64-bit",
   "language": "python",
   "name": "python3"
  },
  "language_info": {
   "codemirror_mode": {
    "name": "ipython",
    "version": 3
   },
   "file_extension": ".py",
   "mimetype": "text/x-python",
   "name": "python",
   "nbconvert_exporter": "python",
   "pygments_lexer": "ipython3",
   "version": "3.10.7"
  },
  "orig_nbformat": 4,
  "vscode": {
   "interpreter": {
    "hash": "1163033b3a67b7271a936ce7c571531b75eab96758d1011b0595f11a015c9e56"
   }
  }
 },
 "nbformat": 4,
 "nbformat_minor": 2
}
