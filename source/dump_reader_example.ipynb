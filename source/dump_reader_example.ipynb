{
 "cells": [
  {
   "cell_type": "code",
   "execution_count": 10,
   "metadata": {},
   "outputs": [],
   "source": [
    "from dump_reader import DumpReader, STATUS_CODE_COLUMN, ID_COLUMN, CONTENT_COLUMN"
   ]
  },
  {
   "cell_type": "code",
   "execution_count": 2,
   "metadata": {},
   "outputs": [
    {
     "data": {
      "text/plain": [
       "'C:\\\\Users\\\\mirvo\\\\Downloads\\\\Telegram Desktop\\\\persian_dump\\\\persian_dump\\\\40402-200.gz'"
      ]
     },
     "execution_count": 2,
     "metadata": {},
     "output_type": "execute_result"
    }
   ],
   "source": [
    "PATH_TO_DUMP = 'C:\\\\Users\\\\mirvo\\\\Downloads\\\\Telegram Desktop\\\\persian_dump\\\\persian_dump'\n",
    "FILE_NAME = f'40402-200.gz'\n",
    "PATH = f'{PATH_TO_DUMP}\\\\{FILE_NAME}'\n",
    "PATH"
   ]
  },
  {
   "cell_type": "code",
   "execution_count": 3,
   "metadata": {},
   "outputs": [
    {
     "data": {
      "text/plain": [
       "40583"
      ]
     },
     "execution_count": 3,
     "metadata": {},
     "output_type": "execute_result"
    }
   ],
   "source": [
    "DumpReader.get_last_index(PATH_TO_DUMP)"
   ]
  },
  {
   "cell_type": "code",
   "execution_count": 17,
   "metadata": {},
   "outputs": [
    {
     "name": "stdout",
     "output_type": "stream",
     "text": [
      "Id: 40402\n",
      "Status code: 200\n"
     ]
    }
   ],
   "source": [
    "single_dump = DumpReader.read_item(PATH)\n",
    "print(f\"Id: {single_dump[ID_COLUMN]}\\nStatus code: {single_dump[STATUS_CODE_COLUMN]}\")"
   ]
  },
  {
   "cell_type": "code",
   "execution_count": 19,
   "metadata": {},
   "outputs": [
    {
     "name": "stdout",
     "output_type": "stream",
     "text": [
      "Id: 1\n",
      "Status code: 404\n",
      "Id: 100\n",
      "Status code: 200\n",
      "Id: 1000\n",
      "Status code: 200\n",
      "Id: 10000\n",
      "Status code: 200\n",
      "Id: 10001\n",
      "Status code: 200\n"
     ]
    }
   ],
   "source": [
    "dump_list = DumpReader.read(PATH_TO_DUMP, 5)\n",
    "for dump in dump_list:\n",
    "    print(f\"Id: {dump[ID_COLUMN]}\\nStatus code: {dump[STATUS_CODE_COLUMN]}\")"
   ]
  },
  {
   "cell_type": "code",
   "execution_count": 20,
   "metadata": {},
   "outputs": [],
   "source": [
    "DumpReader.save_to_html(PATH)"
   ]
  }
 ],
 "metadata": {
  "kernelspec": {
   "display_name": "Python 3.10.7 ('venv': venv)",
   "language": "python",
   "name": "python3"
  },
  "language_info": {
   "codemirror_mode": {
    "name": "ipython",
    "version": 3
   },
   "file_extension": ".py",
   "mimetype": "text/x-python",
   "name": "python",
   "nbconvert_exporter": "python",
   "pygments_lexer": "ipython3",
   "version": "3.10.7"
  },
  "orig_nbformat": 4,
  "vscode": {
   "interpreter": {
    "hash": "57572b8932cb1e70a30eaeb4d192ecf8a581f588e3c4f5978345272f7e2c79e8"
   }
  }
 },
 "nbformat": 4,
 "nbformat_minor": 2
}
