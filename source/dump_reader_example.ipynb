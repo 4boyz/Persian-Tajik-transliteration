{
 "cells": [
  {
   "cell_type": "code",
   "execution_count": 1,
   "metadata": {},
   "outputs": [],
   "source": [
    "from dump_reader import DumpReader, STATUS_CODE_COLUMN, ID_COLUMN, CONTENT_COLUMN\n",
    "from bs4 import BeautifulSoup"
   ]
  },
  {
   "cell_type": "code",
   "execution_count": 2,
   "metadata": {},
   "outputs": [
    {
     "data": {
      "text/plain": [
       "'C:\\\\Users\\\\mirvo\\\\Downloads\\\\Telegram Desktop\\\\persian_dump\\\\persian_dump\\\\15617-200.gz'"
      ]
     },
     "execution_count": 2,
     "metadata": {},
     "output_type": "execute_result"
    }
   ],
   "source": [
    "PATH_TO_DUMP = 'C:\\\\Users\\\\mirvo\\\\Downloads\\\\Telegram Desktop\\\\persian_dump\\\\persian_dump'\n",
    "FILE_NAME = f'15617-200.gz'\n",
    "PATH = f'{PATH_TO_DUMP}\\\\{FILE_NAME}'\n",
    "PATH"
   ]
  },
  {
   "cell_type": "code",
   "execution_count": 3,
   "metadata": {},
   "outputs": [
    {
     "data": {
      "text/plain": [
       "40583"
      ]
     },
     "execution_count": 3,
     "metadata": {},
     "output_type": "execute_result"
    }
   ],
   "source": [
    "DumpReader.get_last_index(PATH_TO_DUMP)"
   ]
  },
  {
   "cell_type": "code",
   "execution_count": 4,
   "metadata": {},
   "outputs": [
    {
     "name": "stdout",
     "output_type": "stream",
     "text": [
      "Id: 15617\n",
      "Status code: 200\n"
     ]
    }
   ],
   "source": [
    "single_dump = DumpReader.read_item(PATH)\n",
    "print(f\"Id: {single_dump[ID_COLUMN]}\\nStatus code: {single_dump[STATUS_CODE_COLUMN]}\")"
   ]
  },
  {
   "cell_type": "code",
   "execution_count": 10,
   "metadata": {},
   "outputs": [
    {
     "data": {
      "text/plain": [
       "[<h1 class=\"bbc-1gvq3vt e1p3vdyi0\" id=\"content\" tabindex=\"-1\">آنچه باید در مورد اشکال نرم‌افزاری هارت‌بلید بدانید</h1>]"
      ]
     },
     "execution_count": 10,
     "metadata": {},
     "output_type": "execute_result"
    }
   ],
   "source": [
    "soup = BeautifulSoup(single_dump['Content'])\n",
    "article_title = soup.find_all('h1')\n",
    "article_title"
   ]
  },
  {
   "cell_type": "code",
   "execution_count": null,
   "metadata": {},
   "outputs": [
    {
     "name": "stdout",
     "output_type": "stream",
     "text": [
      "Id: 1\n",
      "Status code: 404\n",
      "Id: 100\n",
      "Status code: 200\n",
      "Id: 1000\n",
      "Status code: 200\n",
      "Id: 10000\n",
      "Status code: 200\n",
      "Id: 10001\n",
      "Status code: 200\n"
     ]
    }
   ],
   "source": [
    "dump_list = DumpReader.read(PATH_TO_DUMP, 5)\n",
    "for dump in dump_list:\n",
    "    print(f\"Id: {dump[ID_COLUMN]}\\nStatus code: {dump[STATUS_CODE_COLUMN]}\")"
   ]
  },
  {
   "cell_type": "code",
   "execution_count": null,
   "metadata": {},
   "outputs": [],
   "source": [
    "DumpReader.save_to_html(PATH)"
   ]
  }
 ],
 "metadata": {
  "kernelspec": {
   "display_name": "Python 3.10.7 64-bit",
   "language": "python",
   "name": "python3"
  },
  "language_info": {
   "codemirror_mode": {
    "name": "ipython",
    "version": 3
   },
   "file_extension": ".py",
   "mimetype": "text/x-python",
   "name": "python",
   "nbconvert_exporter": "python",
   "pygments_lexer": "ipython3",
   "version": "3.10.7"
  },
  "orig_nbformat": 4,
  "vscode": {
   "interpreter": {
    "hash": "1163033b3a67b7271a936ce7c571531b75eab96758d1011b0595f11a015c9e56"
   }
  }
 },
 "nbformat": 4,
 "nbformat_minor": 2
}
